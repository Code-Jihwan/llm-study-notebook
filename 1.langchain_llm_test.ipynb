{
 "cells": [
  {
   "cell_type": "code",
   "execution_count": 6,
   "metadata": {},
   "outputs": [
    {
     "name": "stdout",
     "output_type": "stream",
     "text": [
      "Requirement already satisfied: python-dotenv in /Users/jujihwan/.pyenv/versions/3.10.12/envs/study-llm-application/lib/python3.11/site-packages (1.0.1)\n",
      "Collecting langchain-upstage\n",
      "  Downloading langchain_upstage-0.6.0-py3-none-any.whl.metadata (3.3 kB)\n",
      "Requirement already satisfied: langchain-core<0.4.0,>=0.3.29 in /Users/jujihwan/.pyenv/versions/3.10.12/envs/study-llm-application/lib/python3.11/site-packages (from langchain-upstage) (0.3.31)\n",
      "Requirement already satisfied: langchain-openai<0.4,>=0.3 in /Users/jujihwan/.pyenv/versions/3.10.12/envs/study-llm-application/lib/python3.11/site-packages (from langchain-upstage) (0.3.2)\n",
      "Collecting pypdf<5.0.0,>=4.2.0 (from langchain-upstage)\n",
      "  Downloading pypdf-4.3.1-py3-none-any.whl.metadata (7.4 kB)\n",
      "Requirement already satisfied: requests<3.0.0,>=2.31.0 in /Users/jujihwan/.pyenv/versions/3.10.12/envs/study-llm-application/lib/python3.11/site-packages (from langchain-upstage) (2.32.3)\n",
      "Collecting tokenizers<0.20.0,>=0.19.1 (from langchain-upstage)\n",
      "  Downloading tokenizers-0.19.1-cp311-cp311-macosx_11_0_arm64.whl.metadata (6.7 kB)\n",
      "Requirement already satisfied: PyYAML>=5.3 in /Users/jujihwan/.pyenv/versions/3.10.12/envs/study-llm-application/lib/python3.11/site-packages (from langchain-core<0.4.0,>=0.3.29->langchain-upstage) (6.0.2)\n",
      "Requirement already satisfied: jsonpatch<2.0,>=1.33 in /Users/jujihwan/.pyenv/versions/3.10.12/envs/study-llm-application/lib/python3.11/site-packages (from langchain-core<0.4.0,>=0.3.29->langchain-upstage) (1.33)\n",
      "Requirement already satisfied: langsmith<0.4,>=0.1.125 in /Users/jujihwan/.pyenv/versions/3.10.12/envs/study-llm-application/lib/python3.11/site-packages (from langchain-core<0.4.0,>=0.3.29->langchain-upstage) (0.3.1)\n",
      "Requirement already satisfied: packaging<25,>=23.2 in /Users/jujihwan/.pyenv/versions/3.10.12/envs/study-llm-application/lib/python3.11/site-packages (from langchain-core<0.4.0,>=0.3.29->langchain-upstage) (24.2)\n",
      "Requirement already satisfied: pydantic<3.0.0,>=2.5.2 in /Users/jujihwan/.pyenv/versions/3.10.12/envs/study-llm-application/lib/python3.11/site-packages (from langchain-core<0.4.0,>=0.3.29->langchain-upstage) (2.10.6)\n",
      "Requirement already satisfied: tenacity!=8.4.0,<10.0.0,>=8.1.0 in /Users/jujihwan/.pyenv/versions/3.10.12/envs/study-llm-application/lib/python3.11/site-packages (from langchain-core<0.4.0,>=0.3.29->langchain-upstage) (9.0.0)\n",
      "Requirement already satisfied: typing-extensions>=4.7 in /Users/jujihwan/.pyenv/versions/3.10.12/envs/study-llm-application/lib/python3.11/site-packages (from langchain-core<0.4.0,>=0.3.29->langchain-upstage) (4.12.2)\n",
      "Requirement already satisfied: openai<2.0.0,>=1.58.1 in /Users/jujihwan/.pyenv/versions/3.10.12/envs/study-llm-application/lib/python3.11/site-packages (from langchain-openai<0.4,>=0.3->langchain-upstage) (1.60.1)\n",
      "Requirement already satisfied: tiktoken<1,>=0.7 in /Users/jujihwan/.pyenv/versions/3.10.12/envs/study-llm-application/lib/python3.11/site-packages (from langchain-openai<0.4,>=0.3->langchain-upstage) (0.8.0)\n",
      "Requirement already satisfied: charset-normalizer<4,>=2 in /Users/jujihwan/.pyenv/versions/3.10.12/envs/study-llm-application/lib/python3.11/site-packages (from requests<3.0.0,>=2.31.0->langchain-upstage) (3.4.1)\n",
      "Requirement already satisfied: idna<4,>=2.5 in /Users/jujihwan/.pyenv/versions/3.10.12/envs/study-llm-application/lib/python3.11/site-packages (from requests<3.0.0,>=2.31.0->langchain-upstage) (3.10)\n",
      "Requirement already satisfied: urllib3<3,>=1.21.1 in /Users/jujihwan/.pyenv/versions/3.10.12/envs/study-llm-application/lib/python3.11/site-packages (from requests<3.0.0,>=2.31.0->langchain-upstage) (2.3.0)\n",
      "Requirement already satisfied: certifi>=2017.4.17 in /Users/jujihwan/.pyenv/versions/3.10.12/envs/study-llm-application/lib/python3.11/site-packages (from requests<3.0.0,>=2.31.0->langchain-upstage) (2024.12.14)\n",
      "Collecting huggingface-hub<1.0,>=0.16.4 (from tokenizers<0.20.0,>=0.19.1->langchain-upstage)\n",
      "  Downloading huggingface_hub-0.27.1-py3-none-any.whl.metadata (13 kB)\n",
      "Collecting filelock (from huggingface-hub<1.0,>=0.16.4->tokenizers<0.20.0,>=0.19.1->langchain-upstage)\n",
      "  Downloading filelock-3.17.0-py3-none-any.whl.metadata (2.9 kB)\n",
      "Collecting fsspec>=2023.5.0 (from huggingface-hub<1.0,>=0.16.4->tokenizers<0.20.0,>=0.19.1->langchain-upstage)\n",
      "  Downloading fsspec-2024.12.0-py3-none-any.whl.metadata (11 kB)\n",
      "Requirement already satisfied: tqdm>=4.42.1 in /Users/jujihwan/.pyenv/versions/3.10.12/envs/study-llm-application/lib/python3.11/site-packages (from huggingface-hub<1.0,>=0.16.4->tokenizers<0.20.0,>=0.19.1->langchain-upstage) (4.67.1)\n",
      "Requirement already satisfied: jsonpointer>=1.9 in /Users/jujihwan/.pyenv/versions/3.10.12/envs/study-llm-application/lib/python3.11/site-packages (from jsonpatch<2.0,>=1.33->langchain-core<0.4.0,>=0.3.29->langchain-upstage) (3.0.0)\n",
      "Requirement already satisfied: httpx<1,>=0.23.0 in /Users/jujihwan/.pyenv/versions/3.10.12/envs/study-llm-application/lib/python3.11/site-packages (from langsmith<0.4,>=0.1.125->langchain-core<0.4.0,>=0.3.29->langchain-upstage) (0.28.1)\n",
      "Requirement already satisfied: orjson<4.0.0,>=3.9.14 in /Users/jujihwan/.pyenv/versions/3.10.12/envs/study-llm-application/lib/python3.11/site-packages (from langsmith<0.4,>=0.1.125->langchain-core<0.4.0,>=0.3.29->langchain-upstage) (3.10.15)\n",
      "Requirement already satisfied: requests-toolbelt<2.0.0,>=1.0.0 in /Users/jujihwan/.pyenv/versions/3.10.12/envs/study-llm-application/lib/python3.11/site-packages (from langsmith<0.4,>=0.1.125->langchain-core<0.4.0,>=0.3.29->langchain-upstage) (1.0.0)\n",
      "Requirement already satisfied: zstandard<0.24.0,>=0.23.0 in /Users/jujihwan/.pyenv/versions/3.10.12/envs/study-llm-application/lib/python3.11/site-packages (from langsmith<0.4,>=0.1.125->langchain-core<0.4.0,>=0.3.29->langchain-upstage) (0.23.0)\n",
      "Requirement already satisfied: anyio<5,>=3.5.0 in /Users/jujihwan/.pyenv/versions/3.10.12/envs/study-llm-application/lib/python3.11/site-packages (from openai<2.0.0,>=1.58.1->langchain-openai<0.4,>=0.3->langchain-upstage) (4.8.0)\n",
      "Requirement already satisfied: distro<2,>=1.7.0 in /Users/jujihwan/.pyenv/versions/3.10.12/envs/study-llm-application/lib/python3.11/site-packages (from openai<2.0.0,>=1.58.1->langchain-openai<0.4,>=0.3->langchain-upstage) (1.9.0)\n",
      "Requirement already satisfied: jiter<1,>=0.4.0 in /Users/jujihwan/.pyenv/versions/3.10.12/envs/study-llm-application/lib/python3.11/site-packages (from openai<2.0.0,>=1.58.1->langchain-openai<0.4,>=0.3->langchain-upstage) (0.8.2)\n",
      "Requirement already satisfied: sniffio in /Users/jujihwan/.pyenv/versions/3.10.12/envs/study-llm-application/lib/python3.11/site-packages (from openai<2.0.0,>=1.58.1->langchain-openai<0.4,>=0.3->langchain-upstage) (1.3.1)\n",
      "Requirement already satisfied: annotated-types>=0.6.0 in /Users/jujihwan/.pyenv/versions/3.10.12/envs/study-llm-application/lib/python3.11/site-packages (from pydantic<3.0.0,>=2.5.2->langchain-core<0.4.0,>=0.3.29->langchain-upstage) (0.7.0)\n",
      "Requirement already satisfied: pydantic-core==2.27.2 in /Users/jujihwan/.pyenv/versions/3.10.12/envs/study-llm-application/lib/python3.11/site-packages (from pydantic<3.0.0,>=2.5.2->langchain-core<0.4.0,>=0.3.29->langchain-upstage) (2.27.2)\n",
      "Requirement already satisfied: regex>=2022.1.18 in /Users/jujihwan/.pyenv/versions/3.10.12/envs/study-llm-application/lib/python3.11/site-packages (from tiktoken<1,>=0.7->langchain-openai<0.4,>=0.3->langchain-upstage) (2024.11.6)\n",
      "Requirement already satisfied: httpcore==1.* in /Users/jujihwan/.pyenv/versions/3.10.12/envs/study-llm-application/lib/python3.11/site-packages (from httpx<1,>=0.23.0->langsmith<0.4,>=0.1.125->langchain-core<0.4.0,>=0.3.29->langchain-upstage) (1.0.7)\n",
      "Requirement already satisfied: h11<0.15,>=0.13 in /Users/jujihwan/.pyenv/versions/3.10.12/envs/study-llm-application/lib/python3.11/site-packages (from httpcore==1.*->httpx<1,>=0.23.0->langsmith<0.4,>=0.1.125->langchain-core<0.4.0,>=0.3.29->langchain-upstage) (0.14.0)\n",
      "Downloading langchain_upstage-0.6.0-py3-none-any.whl (20 kB)\n",
      "Downloading pypdf-4.3.1-py3-none-any.whl (295 kB)\n",
      "Downloading tokenizers-0.19.1-cp311-cp311-macosx_11_0_arm64.whl (2.4 MB)\n",
      "\u001b[2K   \u001b[90m━━━━━━━━━━━━━━━━━━━━━━━━━━━━━━━━━━━━━━━━\u001b[0m \u001b[32m2.4/2.4 MB\u001b[0m \u001b[31m10.9 MB/s\u001b[0m eta \u001b[36m0:00:00\u001b[0ma \u001b[36m0:00:01\u001b[0m\n",
      "\u001b[?25hDownloading huggingface_hub-0.27.1-py3-none-any.whl (450 kB)\n",
      "Downloading fsspec-2024.12.0-py3-none-any.whl (183 kB)\n",
      "Downloading filelock-3.17.0-py3-none-any.whl (16 kB)\n",
      "Installing collected packages: pypdf, fsspec, filelock, huggingface-hub, tokenizers, langchain-upstage\n",
      "Successfully installed filelock-3.17.0 fsspec-2024.12.0 huggingface-hub-0.27.1 langchain-upstage-0.6.0 pypdf-4.3.1 tokenizers-0.19.1\n",
      "\n",
      "\u001b[1m[\u001b[0m\u001b[34;49mnotice\u001b[0m\u001b[1;39;49m]\u001b[0m\u001b[39;49m A new release of pip is available: \u001b[0m\u001b[31;49m24.3.1\u001b[0m\u001b[39;49m -> \u001b[0m\u001b[32;49m25.0\u001b[0m\n",
      "\u001b[1m[\u001b[0m\u001b[34;49mnotice\u001b[0m\u001b[1;39;49m]\u001b[0m\u001b[39;49m To update, run: \u001b[0m\u001b[32;49mpip install --upgrade pip\u001b[0m\n",
      "Note: you may need to restart the kernel to use updated packages.\n"
     ]
    }
   ],
   "source": [
    "%pip install python-dotenv langchain-upstage"
   ]
  },
  {
   "cell_type": "code",
   "execution_count": 7,
   "metadata": {},
   "outputs": [
    {
     "data": {
      "text/plain": [
       "True"
      ]
     },
     "execution_count": 7,
     "metadata": {},
     "output_type": "execute_result"
    }
   ],
   "source": [
    "from dotenv import load_dotenv\n",
    "\n",
    "load_dotenv()"
   ]
  },
  {
   "cell_type": "code",
   "execution_count": 8,
   "metadata": {},
   "outputs": [],
   "source": [
    "from langchain_upstage import ChatUpstage\n",
    "\n",
    "llm = ChatUpstage()"
   ]
  },
  {
   "cell_type": "code",
   "execution_count": 9,
   "metadata": {},
   "outputs": [],
   "source": [
    "ai_message = llm.invoke(\"인프런에 어떤 강의가 있나요?\")"
   ]
  },
  {
   "cell_type": "code",
   "execution_count": 10,
   "metadata": {},
   "outputs": [
    {
     "data": {
      "text/plain": [
       "'인프런은 다양한 IT 관련 강의들을 제공하는 플랫폼입니다. 현재 인프런에서는 다음과 같은 카테고리들이 있습니다:\\n\\n1. 프로그래밍: 웹 개발, 데이터 분석, 모바일 개발, 게임 개발 등 다양한 프로그래밍 언어와 기술에 대한 강의가 있습니다.\\n2. 데이터 사이언스: 통계, 머신러닝, 딥러닝, 데이터베이스 등과 관련된 강의가 있습니다.\\n3. 클라우드 컴퓨팅: AWS, Azure, Google Cloud 등 클라우드 플랫폼에 대한 강의가 있습니다.\\n4. 비즈니스: 스타트업, 마케팅, 디자인 등 비즈니스 관련 강의가 있습니다.\\n5. 실무 기술: 버전 관리, 테스트, 보안 등 실무에서 필요한 기술에 대한 강의가 있습니다.\\n6. 수학/이론: 수학, 선형대수, 미적분 등 프로그래밍과 데이터 사이언스에 필요한 수학적 이론에 대한 강의가 있습니다.\\n\\n이 외에도 많은 주제들이 있으며, 각 강의는 해당 분야의 전문가들이 제공하고 있습니다. 인프런 웹사이트에서 더 자세한 목록과 강의 내용을 확인하실 수 있습니다.'"
      ]
     },
     "execution_count": 10,
     "metadata": {},
     "output_type": "execute_result"
    }
   ],
   "source": [
    "ai_message.content"
   ]
  }
 ],
 "metadata": {
  "kernelspec": {
   "display_name": "study-llm-application",
   "language": "python",
   "name": "python3"
  },
  "language_info": {
   "codemirror_mode": {
    "name": "ipython",
    "version": 3
   },
   "file_extension": ".py",
   "mimetype": "text/x-python",
   "name": "python",
   "nbconvert_exporter": "python",
   "pygments_lexer": "ipython3",
   "version": "3.11.1"
  }
 },
 "nbformat": 4,
 "nbformat_minor": 2
}
